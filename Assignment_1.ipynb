{
  "nbformat": 4,
  "nbformat_minor": 0,
  "metadata": {
    "colab": {
      "provenance": [],
      "authorship_tag": "ABX9TyOFx44ct0Rfhxm7I9B+OoRV",
      "include_colab_link": true
    },
    "kernelspec": {
      "name": "python3",
      "display_name": "Python 3"
    },
    "language_info": {
      "name": "python"
    }
  },
  "cells": [
    {
      "cell_type": "markdown",
      "metadata": {
        "id": "view-in-github",
        "colab_type": "text"
      },
      "source": [
        "<a href=\"https://colab.research.google.com/github/Harshith-SG/ThaparSummerSchool/blob/Assignments/Assignment_1.ipynb\" target=\"_parent\"><img src=\"https://colab.research.google.com/assets/colab-badge.svg\" alt=\"Open In Colab\"/></a>"
      ]
    },
    {
      "cell_type": "code",
      "source": [
        "import time as time\n",
        "begin=time.time() "
      ],
      "metadata": {
        "id": "33O_ptJCDRRZ"
      },
      "execution_count": 1,
      "outputs": []
    },
    {
      "cell_type": "markdown",
      "source": [
        "Q1"
      ],
      "metadata": {
        "id": "RBH7WqSrX1X5"
      }
    },
    {
      "cell_type": "code",
      "source": [
        "l=[11,12,13,14]\n",
        "l.append(50)\n",
        "l.append(60)\n",
        "print(l)"
      ],
      "metadata": {
        "colab": {
          "base_uri": "https://localhost:8080/"
        },
        "id": "GdKMrbJVX68h",
        "outputId": "cfc3cf95-7ee8-4b45-cfa5-9254f553bc10"
      },
      "execution_count": 2,
      "outputs": [
        {
          "output_type": "stream",
          "name": "stdout",
          "text": [
            "[11, 12, 13, 14, 50, 60]\n"
          ]
        }
      ]
    },
    {
      "cell_type": "code",
      "source": [
        "l.remove(11)\n",
        "l.remove(13)\n",
        "print(l)\n"
      ],
      "metadata": {
        "colab": {
          "base_uri": "https://localhost:8080/"
        },
        "id": "I2Xbl9Kpat7e",
        "outputId": "18cdd577-31c1-41b2-8a1f-5047161b25c8"
      },
      "execution_count": 3,
      "outputs": [
        {
          "output_type": "stream",
          "name": "stdout",
          "text": [
            "[12, 14, 50, 60]\n"
          ]
        }
      ]
    },
    {
      "cell_type": "code",
      "source": [
        "l.sort()\n",
        "print(l)"
      ],
      "metadata": {
        "colab": {
          "base_uri": "https://localhost:8080/"
        },
        "id": "MRJKCL1YaavG",
        "outputId": "b1a8c62b-f1ed-47d0-f02a-fa773af0ad9a"
      },
      "execution_count": 4,
      "outputs": [
        {
          "output_type": "stream",
          "name": "stdout",
          "text": [
            "[12, 14, 50, 60]\n"
          ]
        }
      ]
    },
    {
      "cell_type": "code",
      "source": [
        "l.sort(reverse=True)\n",
        "print(l)"
      ],
      "metadata": {
        "colab": {
          "base_uri": "https://localhost:8080/"
        },
        "id": "X-EAd4vzbT4-",
        "outputId": "147aea42-e84a-4a7f-98ce-3dc1464fd49b"
      },
      "execution_count": 5,
      "outputs": [
        {
          "output_type": "stream",
          "name": "stdout",
          "text": [
            "[60, 50, 14, 12]\n"
          ]
        }
      ]
    },
    {
      "cell_type": "code",
      "source": [
        "print( 13 in l)"
      ],
      "metadata": {
        "colab": {
          "base_uri": "https://localhost:8080/"
        },
        "id": "8mFC0cFsbZ2u",
        "outputId": "1e83ae9f-e56f-4bb9-f336-4df286268ac3"
      },
      "execution_count": 6,
      "outputs": [
        {
          "output_type": "stream",
          "name": "stdout",
          "text": [
            "False\n"
          ]
        }
      ]
    },
    {
      "cell_type": "code",
      "source": [
        "print(len(l))"
      ],
      "metadata": {
        "colab": {
          "base_uri": "https://localhost:8080/"
        },
        "id": "AuopRL7PcB8A",
        "outputId": "1f096b9c-a291-475e-c5fb-8de2ee5a7f3c"
      },
      "execution_count": 7,
      "outputs": [
        {
          "output_type": "stream",
          "name": "stdout",
          "text": [
            "4\n"
          ]
        }
      ]
    },
    {
      "cell_type": "code",
      "source": [
        "print(sum(l))"
      ],
      "metadata": {
        "colab": {
          "base_uri": "https://localhost:8080/"
        },
        "id": "Bmjuffn7cZpw",
        "outputId": "98e74d5f-d956-428f-a3e6-8db5e9fbb646"
      },
      "execution_count": 8,
      "outputs": [
        {
          "output_type": "stream",
          "name": "stdout",
          "text": [
            "136\n"
          ]
        }
      ]
    },
    {
      "cell_type": "code",
      "source": [
        "s=0\n",
        "for i in l:\n",
        "  if i%2!=0:\n",
        "    s=s+i\n",
        "  print (s) "
      ],
      "metadata": {
        "colab": {
          "base_uri": "https://localhost:8080/"
        },
        "id": "klugeYBncmKQ",
        "outputId": "82a1bae5-aa34-4681-d915-9c6def56994d"
      },
      "execution_count": 9,
      "outputs": [
        {
          "output_type": "stream",
          "name": "stdout",
          "text": [
            "0\n",
            "0\n",
            "0\n",
            "0\n"
          ]
        }
      ]
    },
    {
      "cell_type": "code",
      "source": [
        "s=0\n",
        "for i in l:\n",
        "  if i%2==0:\n",
        "    s=s+i\n",
        "print(s) "
      ],
      "metadata": {
        "colab": {
          "base_uri": "https://localhost:8080/"
        },
        "id": "xiilu0V8eI5L",
        "outputId": "a57fe411-27b4-4aa6-c80e-4b74aade4113"
      },
      "execution_count": 10,
      "outputs": [
        {
          "output_type": "stream",
          "name": "stdout",
          "text": [
            "136\n"
          ]
        }
      ]
    },
    {
      "cell_type": "code",
      "source": [
        "def prime_checker(n):\n",
        "  for i in range(2,n//2+1):\n",
        "    if n%i==0:\n",
        "      return 0\n",
        "  return 1\n",
        "s=0\n",
        "for i in l:\n",
        "  if prime_checker(i)==1:\n",
        "    print(i)\n",
        "    s=s+i\n",
        "print (s)\n",
        "\n"
      ],
      "metadata": {
        "colab": {
          "base_uri": "https://localhost:8080/"
        },
        "id": "LwyOBsI8eNU_",
        "outputId": "dbba28be-887f-4524-dc22-b25cd6aa8e5c"
      },
      "execution_count": 11,
      "outputs": [
        {
          "output_type": "stream",
          "name": "stdout",
          "text": [
            "0\n"
          ]
        }
      ]
    },
    {
      "cell_type": "code",
      "source": [
        "l.clear()\n",
        "print (l)"
      ],
      "metadata": {
        "colab": {
          "base_uri": "https://localhost:8080/"
        },
        "id": "mBGO06llqMvI",
        "outputId": "0797c456-c2d6-486f-acd3-5ab3ad9528ec"
      },
      "execution_count": 12,
      "outputs": [
        {
          "output_type": "stream",
          "name": "stdout",
          "text": [
            "[]\n"
          ]
        }
      ]
    },
    {
      "cell_type": "code",
      "source": [
        "del l\n",
        "# print(l)"
      ],
      "metadata": {
        "id": "JdHE480sqSxU"
      },
      "execution_count": 13,
      "outputs": []
    },
    {
      "cell_type": "markdown",
      "source": [
        "Q2"
      ],
      "metadata": {
        "id": "50M_2-3prHk5"
      }
    },
    {
      "cell_type": "code",
      "source": [
        "d={1:5.6, 2:7.8, 3:6.6, 4:8.7, 5:7.7}\n",
        "d[8]=8.8\n",
        "del d[2]\n",
        "print(6 in d)\n"
      ],
      "metadata": {
        "colab": {
          "base_uri": "https://localhost:8080/"
        },
        "id": "KhNtmEXNrI0C",
        "outputId": "c20e5a39-fd3d-4cc7-a90e-a3fca7695d3c"
      },
      "execution_count": 14,
      "outputs": [
        {
          "output_type": "stream",
          "name": "stdout",
          "text": [
            "False\n"
          ]
        }
      ]
    },
    {
      "cell_type": "code",
      "source": [
        "print(len(d))"
      ],
      "metadata": {
        "colab": {
          "base_uri": "https://localhost:8080/"
        },
        "id": "Ig0-8Rezx-Ls",
        "outputId": "7dc3ea84-def0-4fb3-de2e-7447705dbb7b"
      },
      "execution_count": 15,
      "outputs": [
        {
          "output_type": "stream",
          "name": "stdout",
          "text": [
            "5\n"
          ]
        }
      ]
    },
    {
      "cell_type": "code",
      "source": [
        "s=0\n",
        "for i in d:\n",
        "  s=s+d[i]\n",
        "print(s)  "
      ],
      "metadata": {
        "colab": {
          "base_uri": "https://localhost:8080/"
        },
        "id": "74ikjLptyCm2",
        "outputId": "af2d5fc9-d8a0-4598-ddb4-7ea40b3a7789"
      },
      "execution_count": 16,
      "outputs": [
        {
          "output_type": "stream",
          "name": "stdout",
          "text": [
            "37.4\n"
          ]
        }
      ]
    },
    {
      "cell_type": "code",
      "source": [
        "d[3]=7.1"
      ],
      "metadata": {
        "id": "NxdrUcEjySo7"
      },
      "execution_count": 17,
      "outputs": []
    },
    {
      "cell_type": "code",
      "source": [
        "d.clear()\n",
        "print (d)"
      ],
      "metadata": {
        "colab": {
          "base_uri": "https://localhost:8080/"
        },
        "id": "nse1kX_LyYB8",
        "outputId": "38671e9c-bcb5-4972-dfa1-9eece6f97ca3"
      },
      "execution_count": 18,
      "outputs": [
        {
          "output_type": "stream",
          "name": "stdout",
          "text": [
            "{}\n"
          ]
        }
      ]
    },
    {
      "cell_type": "markdown",
      "source": [
        "Q3"
      ],
      "metadata": {
        "id": "Cyp60SY3yylU"
      }
    },
    {
      "cell_type": "code",
      "source": [
        "s1= set([10, 20, 30, 40, 50, 60])\n",
        "s2= set([40, 50, 60, 70, 80, 90])\n",
        "s1.add(55)\n",
        "s1.add(66)\n",
        "s1.remove(10)\n",
        "s1.remove(30)\n",
        "s3=s1.union(s2)\n",
        "s4=s1.intersection(s2)\n",
        "s5=s1-s2\n",
        "print(s5)\n",
        "# print(s1)"
      ],
      "metadata": {
        "colab": {
          "base_uri": "https://localhost:8080/"
        },
        "id": "lJg9Ykzpyzog",
        "outputId": "9f44344e-13eb-407d-f2b7-41508f6196fc"
      },
      "execution_count": 19,
      "outputs": [
        {
          "output_type": "stream",
          "name": "stdout",
          "text": [
            "{66, 20, 55}\n"
          ]
        }
      ]
    },
    {
      "cell_type": "markdown",
      "source": [
        "Q4"
      ],
      "metadata": {
        "id": "VcngoqwT1twi"
      }
    },
    {
      "cell_type": "code",
      "source": [
        "import random as ran\n",
        "def ranstr():\n",
        "  strlen=ran.randint(6,8)\n",
        "  a=''\n",
        "  # print (a)\n",
        "  for i in range(strlen):\n",
        "    a=a+chr(ran.randint(97,122))\n",
        "    # print (a)\n",
        "  print (a)\n",
        "\n",
        "for i in range(5):\n",
        "  ranstr()\n"
      ],
      "metadata": {
        "colab": {
          "base_uri": "https://localhost:8080/"
        },
        "id": "rcisU5Vv1wGT",
        "outputId": "e9e1472e-b91a-41ca-8f72-1b6f1ff1326e"
      },
      "execution_count": 20,
      "outputs": [
        {
          "output_type": "stream",
          "name": "stdout",
          "text": [
            "ehhlcxap\n",
            "rlpuftxt\n",
            "xvxzpkt\n",
            "blarrqm\n",
            "wksiosmf\n"
          ]
        }
      ]
    },
    {
      "cell_type": "code",
      "source": [
        "def prime_checker(n):\n",
        "  for i in range(2,n//2):\n",
        "    if n%i==0:\n",
        "      return 0\n",
        "  return 1\n",
        "s=0\n",
        "for i in range(600,800):\n",
        "  if prime_checker(i)==1:\n",
        "    print (i)"
      ],
      "metadata": {
        "colab": {
          "base_uri": "https://localhost:8080/"
        },
        "id": "zPVl0uZe7y-4",
        "outputId": "e5136756-791d-494b-e51c-ad2eb3476b4a"
      },
      "execution_count": 21,
      "outputs": [
        {
          "output_type": "stream",
          "name": "stdout",
          "text": [
            "601\n",
            "607\n",
            "613\n",
            "617\n",
            "619\n",
            "631\n",
            "641\n",
            "643\n",
            "647\n",
            "653\n",
            "659\n",
            "661\n",
            "673\n",
            "677\n",
            "683\n",
            "691\n",
            "701\n",
            "709\n",
            "719\n",
            "727\n",
            "733\n",
            "739\n",
            "743\n",
            "751\n",
            "757\n",
            "761\n",
            "769\n",
            "773\n",
            "787\n",
            "797\n"
          ]
        }
      ]
    },
    {
      "cell_type": "code",
      "source": [
        "for i in range(100,1000):\n",
        "  if i%7==0 or i%9==0:\n",
        "    print (i)"
      ],
      "metadata": {
        "colab": {
          "base_uri": "https://localhost:8080/"
        },
        "id": "Inx4064HABOy",
        "outputId": "7aa151e7-7d3d-476b-9f5c-b37a6f5f3195"
      },
      "execution_count": 22,
      "outputs": [
        {
          "output_type": "stream",
          "name": "stdout",
          "text": [
            "105\n",
            "108\n",
            "112\n",
            "117\n",
            "119\n",
            "126\n",
            "133\n",
            "135\n",
            "140\n",
            "144\n",
            "147\n",
            "153\n",
            "154\n",
            "161\n",
            "162\n",
            "168\n",
            "171\n",
            "175\n",
            "180\n",
            "182\n",
            "189\n",
            "196\n",
            "198\n",
            "203\n",
            "207\n",
            "210\n",
            "216\n",
            "217\n",
            "224\n",
            "225\n",
            "231\n",
            "234\n",
            "238\n",
            "243\n",
            "245\n",
            "252\n",
            "259\n",
            "261\n",
            "266\n",
            "270\n",
            "273\n",
            "279\n",
            "280\n",
            "287\n",
            "288\n",
            "294\n",
            "297\n",
            "301\n",
            "306\n",
            "308\n",
            "315\n",
            "322\n",
            "324\n",
            "329\n",
            "333\n",
            "336\n",
            "342\n",
            "343\n",
            "350\n",
            "351\n",
            "357\n",
            "360\n",
            "364\n",
            "369\n",
            "371\n",
            "378\n",
            "385\n",
            "387\n",
            "392\n",
            "396\n",
            "399\n",
            "405\n",
            "406\n",
            "413\n",
            "414\n",
            "420\n",
            "423\n",
            "427\n",
            "432\n",
            "434\n",
            "441\n",
            "448\n",
            "450\n",
            "455\n",
            "459\n",
            "462\n",
            "468\n",
            "469\n",
            "476\n",
            "477\n",
            "483\n",
            "486\n",
            "490\n",
            "495\n",
            "497\n",
            "504\n",
            "511\n",
            "513\n",
            "518\n",
            "522\n",
            "525\n",
            "531\n",
            "532\n",
            "539\n",
            "540\n",
            "546\n",
            "549\n",
            "553\n",
            "558\n",
            "560\n",
            "567\n",
            "574\n",
            "576\n",
            "581\n",
            "585\n",
            "588\n",
            "594\n",
            "595\n",
            "602\n",
            "603\n",
            "609\n",
            "612\n",
            "616\n",
            "621\n",
            "623\n",
            "630\n",
            "637\n",
            "639\n",
            "644\n",
            "648\n",
            "651\n",
            "657\n",
            "658\n",
            "665\n",
            "666\n",
            "672\n",
            "675\n",
            "679\n",
            "684\n",
            "686\n",
            "693\n",
            "700\n",
            "702\n",
            "707\n",
            "711\n",
            "714\n",
            "720\n",
            "721\n",
            "728\n",
            "729\n",
            "735\n",
            "738\n",
            "742\n",
            "747\n",
            "749\n",
            "756\n",
            "763\n",
            "765\n",
            "770\n",
            "774\n",
            "777\n",
            "783\n",
            "784\n",
            "791\n",
            "792\n",
            "798\n",
            "801\n",
            "805\n",
            "810\n",
            "812\n",
            "819\n",
            "826\n",
            "828\n",
            "833\n",
            "837\n",
            "840\n",
            "846\n",
            "847\n",
            "854\n",
            "855\n",
            "861\n",
            "864\n",
            "868\n",
            "873\n",
            "875\n",
            "882\n",
            "889\n",
            "891\n",
            "896\n",
            "900\n",
            "903\n",
            "909\n",
            "910\n",
            "917\n",
            "918\n",
            "924\n",
            "927\n",
            "931\n",
            "936\n",
            "938\n",
            "945\n",
            "952\n",
            "954\n",
            "959\n",
            "963\n",
            "966\n",
            "972\n",
            "973\n",
            "980\n",
            "981\n",
            "987\n",
            "990\n",
            "994\n",
            "999\n"
          ]
        }
      ]
    },
    {
      "cell_type": "markdown",
      "source": [
        "Q5"
      ],
      "metadata": {
        "id": "s7pquDs1Aud2"
      }
    },
    {
      "cell_type": "code",
      "source": [
        "import random as ran\n",
        "def createList(n):\n",
        "  l1=[]\n",
        "  for i in range(n):\n",
        "    l1.append(ran.randint(10,30))\n",
        "  return l1\n",
        "n=5\n",
        "l1=set(createList(n))\n",
        "l2=set(createList(n))\n",
        "print(l1)\n",
        "print(list(l1.intersection(l2)))\n",
        "print(list(l1.union(l2)))\n",
        "print(min(list(l1)),min(list(l2)))\n",
        "print(max(list(l1)),max(list(l2)))\n",
        "print(list(l1)+list(l2))"
      ],
      "metadata": {
        "colab": {
          "base_uri": "https://localhost:8080/"
        },
        "id": "DXwlRCJAAwV2",
        "outputId": "782a1926-3e52-441f-c5e5-6aec226042ce"
      },
      "execution_count": 23,
      "outputs": [
        {
          "output_type": "stream",
          "name": "stdout",
          "text": [
            "{27, 26, 19, 12}\n",
            "[12]\n",
            "[10, 12, 14, 19, 20, 24, 26, 27]\n",
            "12 10\n",
            "27 24\n",
            "[27, 26, 19, 12, 10, 12, 14, 20, 24]\n"
          ]
        }
      ]
    },
    {
      "cell_type": "markdown",
      "source": [
        "q6"
      ],
      "metadata": {
        "id": "yIBHQwoaLWKl"
      }
    },
    {
      "cell_type": "code",
      "source": [
        "import random as ran\n",
        "def createList():\n",
        "  l1=[]\n",
        "  for i in range(10):\n",
        "    l1.append(ran.randint(100,900))\n",
        "  return l1\n",
        "l=createList()\n",
        "even=[]\n",
        "odd=[]\n",
        "prime=[]\n",
        "for i in l:\n",
        "  if prime_checker(i)==1:\n",
        "    prime.append(i)\n",
        "  if i%2==0:\n",
        "    even.append(i)\n",
        "  else:\n",
        "    odd.append(i)\n"
      ],
      "metadata": {
        "id": "HhwmRqYg7T9M"
      },
      "execution_count": 24,
      "outputs": []
    },
    {
      "cell_type": "markdown",
      "source": [
        "Q7"
      ],
      "metadata": {
        "id": "ejpF6kce_U_w"
      }
    },
    {
      "cell_type": "code",
      "source": [
        "D={1:\"One\",2:\"Two\",3:\"Three\",4:\"Four\", 5:\"Five\"}\n",
        "for i in D:\n",
        "  print(i,\",\",D[i])"
      ],
      "metadata": {
        "colab": {
          "base_uri": "https://localhost:8080/"
        },
        "id": "iI6ABzuX807P",
        "outputId": "e8834d7d-2c51-4699-e879-c6889762c669"
      },
      "execution_count": 25,
      "outputs": [
        {
          "output_type": "stream",
          "name": "stdout",
          "text": [
            "1 , One\n",
            "2 , Two\n",
            "3 , Three\n",
            "4 , Four\n",
            "5 , Five\n"
          ]
        }
      ]
    },
    {
      "cell_type": "markdown",
      "source": [
        "Q8"
      ],
      "metadata": {
        "id": "yHxVdW1c_Zz4"
      }
    },
    {
      "cell_type": "code",
      "source": [
        "L=list({\"One\",\"Two\",\"Three\",\"Four\",\"Five\"})\n",
        "for i in L:\n",
        "  print(i,len(i))"
      ],
      "metadata": {
        "colab": {
          "base_uri": "https://localhost:8080/"
        },
        "id": "BzK2kDWQ_n_b",
        "outputId": "ad2f1889-3003-4793-e173-36ea1870922e"
      },
      "execution_count": 26,
      "outputs": [
        {
          "output_type": "stream",
          "name": "stdout",
          "text": [
            "Two 3\n",
            "Five 4\n",
            "Four 4\n",
            "One 3\n",
            "Three 5\n"
          ]
        }
      ]
    },
    {
      "cell_type": "markdown",
      "source": [
        "Q9"
      ],
      "metadata": {
        "id": "to2f77fwAYSx"
      }
    },
    {
      "cell_type": "code",
      "source": [
        "def createString():\n",
        "  r=ran.randint(10,15)\n",
        "  l1=''\n",
        "  for i in range(r):\n",
        "    l1=l1+chr(ran.randint(97,122))\n",
        "  return l1\n",
        "fw=open('q9.txt','w')\n",
        "for i in range(100):\n",
        "  fw.write(createString())\n",
        "fw.close()\n"
      ],
      "metadata": {
        "id": "7GIhI2jGAXOP"
      },
      "execution_count": 27,
      "outputs": []
    },
    {
      "cell_type": "markdown",
      "source": [
        "Q10"
      ],
      "metadata": {
        "id": "s2GhcekfCjzo"
      }
    },
    {
      "cell_type": "code",
      "source": [
        "fw=open('q9.txt','w')\n",
        "for i in range(600,800):\n",
        "  if prime_checker(i)==1:\n",
        "    fw.write(chr(i))\n",
        "fw.close()"
      ],
      "metadata": {
        "id": "7kSylw5pClrf"
      },
      "execution_count": 28,
      "outputs": []
    },
    {
      "cell_type": "markdown",
      "source": [
        "Q11"
      ],
      "metadata": {
        "id": "en9gSCEXC7iO"
      }
    },
    {
      "cell_type": "code",
      "source": [
        "end=time.time()\n",
        "print(\"time taken =\", end-begin,\"s\")"
      ],
      "metadata": {
        "colab": {
          "base_uri": "https://localhost:8080/"
        },
        "id": "BN3jBCpVC8jQ",
        "outputId": "081a1246-f39f-4e0e-e30a-51464dbea5ed"
      },
      "execution_count": 29,
      "outputs": [
        {
          "output_type": "stream",
          "name": "stdout",
          "text": [
            "time taken = 1.1204936504364014 s\n"
          ]
        }
      ]
    },
    {
      "cell_type": "markdown",
      "source": [
        "Q12"
      ],
      "metadata": {
        "id": "dr2yyoSSDtKd"
      }
    },
    {
      "cell_type": "code",
      "source": [
        "\n",
        "def randintlist(n):\n",
        "  l=[]\n",
        "  for i in range(n):\n",
        "    l.append(ran.randint(0,9))\n",
        "  return l\n",
        "t0=time.time()\n",
        "l1=randintlist(5000)\n",
        "t1=time.time()\n",
        "l2=randintlist(10000)\n",
        "t2=time.time()\n",
        "l3=randintlist(15000)\n",
        "t3=time.time()\n",
        "l4=randintlist(20000)\n",
        "t4=time.time()\n",
        "l5=randintlist(25000)\n",
        "t5=time.time()\n",
        "print(t1-t0,t2-t1,t3-t2,t4-t3,t5-t4)"
      ],
      "metadata": {
        "colab": {
          "base_uri": "https://localhost:8080/"
        },
        "id": "rXoSfYYmDLlY",
        "outputId": "a4661413-7fe6-480b-8520-7336e438a4c1"
      },
      "execution_count": 30,
      "outputs": [
        {
          "output_type": "stream",
          "name": "stdout",
          "text": [
            "0.023474931716918945 0.026694536209106445 0.04477190971374512 0.0335848331451416 0.018790245056152344\n"
          ]
        }
      ]
    },
    {
      "cell_type": "markdown",
      "source": [
        "Q13"
      ],
      "metadata": {
        "id": "bBPm-sUJGCCm"
      }
    },
    {
      "cell_type": "code",
      "source": [
        "D={}\n",
        "for i in range(10):\n",
        "  l=[]\n",
        "  for j in range(5):\n",
        "    l.append(ran.randint(1,100))\n",
        "  D[i]=l\n",
        "print(D)\n",
        "avg=list()\n",
        "for i in range(10):\n",
        "  avg.append(sum(D[i])/5)\n",
        "for i in range(10):\n",
        "  if min(avg)==avg[i]:\n",
        "    print(\"Mininmum marks are if student\", i)\n",
        "for i in range(10):\n",
        "  if max(avg)==avg[i]:\n",
        "    print(\"Maximum marks are if student\", i)"
      ],
      "metadata": {
        "colab": {
          "base_uri": "https://localhost:8080/"
        },
        "id": "AnRsSP39GEB5",
        "outputId": "452f21b0-b0ed-4368-b026-4652fb9a3441"
      },
      "execution_count": 31,
      "outputs": [
        {
          "output_type": "stream",
          "name": "stdout",
          "text": [
            "{0: [25, 46, 97, 74, 76], 1: [40, 44, 12, 74, 48], 2: [79, 22, 90, 20, 99], 3: [81, 46, 25, 55, 71], 4: [14, 25, 81, 10, 13], 5: [38, 71, 100, 3, 79], 6: [36, 97, 37, 95, 55], 7: [21, 55, 24, 59, 11], 8: [79, 16, 42, 91, 91], 9: [28, 31, 3, 38, 65]}\n",
            "Mininmum marks are if student 4\n",
            "Maximum marks are if student 6\n"
          ]
        }
      ]
    },
    {
      "cell_type": "markdown",
      "source": [
        "Time taken"
      ],
      "metadata": {
        "id": "1sCU7wehKuFc"
      }
    },
    {
      "cell_type": "code",
      "source": [
        "program_end=time.time()\n",
        "print(\"Time taken to execute this program =\",program_end-begin)"
      ],
      "metadata": {
        "colab": {
          "base_uri": "https://localhost:8080/"
        },
        "id": "8CI9MNCoKwET",
        "outputId": "03538388-c78d-49f5-ead4-469b7fa05a3f"
      },
      "execution_count": 32,
      "outputs": [
        {
          "output_type": "stream",
          "name": "stdout",
          "text": [
            "Time taken to execute this program = 1.3160686492919922\n"
          ]
        }
      ]
    }
  ]
}