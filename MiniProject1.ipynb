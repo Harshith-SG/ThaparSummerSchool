{
  "nbformat": 4,
  "nbformat_minor": 0,
  "metadata": {
    "colab": {
      "provenance": [],
      "authorship_tag": "ABX9TyMJRALHrCN96PT8A0N1PFpf",
      "include_colab_link": true
    },
    "kernelspec": {
      "name": "python3",
      "display_name": "Python 3"
    },
    "language_info": {
      "name": "python"
    }
  },
  "cells": [
    {
      "cell_type": "markdown",
      "metadata": {
        "id": "view-in-github",
        "colab_type": "text"
      },
      "source": [
        "<a href=\"https://colab.research.google.com/github/Harshith-SG/ThaparSummerSchool/blob/main/MiniProject1.ipynb\" target=\"_parent\"><img src=\"https://colab.research.google.com/assets/colab-badge.svg\" alt=\"Open In Colab\"/></a>"
      ]
    },
    {
      "cell_type": "code",
      "source": [
        "import random as r"
      ],
      "metadata": {
        "id": "oeArir-VbWER"
      },
      "execution_count": null,
      "outputs": []
    },
    {
      "cell_type": "code",
      "execution_count": null,
      "metadata": {
        "id": "juj5ToV7bNL_"
      },
      "outputs": [],
      "source": [
        "Set={-12, -3, -6, 7, 2, -2, 6, 3, 9, -7, -5, -8, 1, 11, -9, -4}"
      ]
    },
    {
      "cell_type": "code",
      "source": [
        "\n",
        "resultList=list()\n",
        "for i in range(1000):\n",
        "  s=set(r.sample(Set,5))\n",
        "  if sum(s)==0:\n",
        "    resultList.append(s)\n",
        "print(len(resultList),resultList)"
      ],
      "metadata": {
        "colab": {
          "base_uri": "https://localhost:8080/"
        },
        "id": "NM1e9yQ2bgaJ",
        "outputId": "955bda09-a40c-4337-f0a9-b323a5c27cb0"
      },
      "execution_count": null,
      "outputs": [
        {
          "output_type": "stream",
          "name": "stdout",
          "text": [
            "32 [{2, 3, 6, -8, -3}, {2, 3, 6, -6, -5}, {2, 3, 9, -12, -2}, {3, 9, -5, -4, -3}, {7, 9, -7, -6, -3}, {1, 9, 11, -12, -9}, {2, 3, 7, -8, -4}, {9, 11, -9, -6, -5}, {1, 9, 11, -12, -9}, {1, 3, 6, -7, -3}, {3, 6, 7, -12, -4}, {1, 6, 7, -12, -2}, {7, 9, -9, -5, -2}, {2, 3, 7, -9, -3}, {1, 2, 9, -7, -5}, {6, 7, -6, -5, -2}, {2, 3, 6, -8, -3}, {1, 2, 11, -9, -5}, {2, 3, 9, -12, -2}, {2, 3, 6, -6, -5}, {7, 11, -12, -4, -2}, {2, 3, 7, -8, -4}, {6, 11, -12, -3, -2}, {7, 9, -9, -4, -3}, {1, 7, 9, -9, -8}, {1, 3, 11, -8, -7}, {1, 3, 11, -8, -7}, {2, 9, -6, -3, -2}, {3, 6, 11, -12, -8}, {1, 3, 7, -6, -5}, {1, 2, 9, -7, -5}, {2, 6, 7, -12, -3}]\n"
          ]
        },
        {
          "output_type": "stream",
          "name": "stderr",
          "text": [
            "<ipython-input-3-d02a5c1641b1>:3: DeprecationWarning: Sampling from a set deprecated\n",
            "since Python 3.9 and will be removed in a subsequent version.\n",
            "  s=set(r.sample(Set,5))\n"
          ]
        }
      ]
    }
  ]
}