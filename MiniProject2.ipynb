{
  "nbformat": 4,
  "nbformat_minor": 0,
  "metadata": {
    "colab": {
      "provenance": [],
      "authorship_tag": "ABX9TyPbPb7C79UBej6grk165ctL",
      "include_colab_link": true
    },
    "kernelspec": {
      "name": "python3",
      "display_name": "Python 3"
    },
    "language_info": {
      "name": "python"
    }
  },
  "cells": [
    {
      "cell_type": "markdown",
      "metadata": {
        "id": "view-in-github",
        "colab_type": "text"
      },
      "source": [
        "<a href=\"https://colab.research.google.com/github/Harshith-SG/ThaparSummerSchool/blob/main/MiniProject2.ipynb\" target=\"_parent\"><img src=\"https://colab.research.google.com/assets/colab-badge.svg\" alt=\"Open In Colab\"/></a>"
      ]
    },
    {
      "cell_type": "code",
      "execution_count": null,
      "metadata": {
        "id": "MbHnsM4brzvb"
      },
      "outputs": [],
      "source": [
        "import random as r\n",
        "ProductList = {'p1':10, 'p2':15, 'p3':20, 'p4':25, 'p5':30, 'p6':35, 'p7':50,\n",
        "               'p8':40, 'p9':55, 'p10':60, 'p11':65, 'p12':75, 'p13':70,\n",
        "               'p14':45}"
      ]
    },
    {
      "cell_type": "code",
      "source": [
        "# from typing_extensions import Required\n",
        "minLimit=290\n",
        "maxLimit=310\n",
        "Required=list()\n",
        "for i in range(100):\n",
        "  testList=[]\n",
        "  # price=sum(testList)\n",
        "  for j in range(10):\n",
        "    price=sum(testList)\n",
        "  # print(price)\n",
        "    if price>maxLimit:\n",
        "      break\n",
        "    if price<minLimit:\n",
        "      testList.append(r.choice(list(ProductList.values())))\n",
        "      # print(testList,price)\n",
        "      continue\n",
        "    else:\n",
        "      # print(price)\n",
        "      Required.append(testList)\n",
        "      break\n",
        "print(len(Required),Required)\n"
      ],
      "metadata": {
        "colab": {
          "base_uri": "https://localhost:8080/"
        },
        "id": "VAmFZ-ljsEf5",
        "outputId": "b57c9a46-b262-4d0b-a6e4-b281a2968037"
      },
      "execution_count": null,
      "outputs": [
        {
          "output_type": "stream",
          "name": "stdout",
          "text": [
            "53 [[25, 60, 20, 25, 15, 50, 30, 65], [30, 60, 20, 65, 55, 75], [45, 40, 60, 35, 10, 15, 10, 55, 35], [15, 25, 30, 65, 45, 50, 65], [50, 25, 50, 25, 50, 20, 60, 25], [35, 10, 65, 10, 15, 30, 20, 45, 75], [75, 50, 30, 25, 30, 20, 55, 20], [40, 45, 25, 10, 30, 55, 75, 20], [35, 60, 65, 20, 60, 55], [60, 40, 40, 20, 75, 20, 40], [15, 55, 30, 55, 65, 70], [35, 45, 10, 65, 35, 20, 60, 40], [30, 25, 70, 50, 20, 40, 55], [10, 30, 55, 45, 35, 50, 75], [75, 20, 60, 10, 40, 55, 35], [70, 35, 15, 75, 50, 20, 30], [30, 45, 15, 65, 75, 35, 40], [25, 50, 40, 10, 60, 45, 75], [45, 60, 60, 65, 65], [60, 35, 55, 60, 45, 55], [50, 25, 75, 20, 50, 60, 20], [75, 15, 15, 65, 75, 50], [15, 20, 45, 10, 15, 45, 75, 65], [65, 10, 20, 40, 35, 30, 15, 45, 30], [65, 70, 75, 40, 10, 35], [70, 70, 50, 45, 60], [30, 35, 25, 45, 25, 25, 55, 15, 40], [20, 45, 75, 60, 55, 20, 25], [65, 60, 75, 65, 40], [55, 20, 30, 55, 65, 50, 15], [45, 70, 60, 55, 75], [30, 10, 65, 45, 30, 50, 70], [25, 70, 30, 45, 15, 60, 15, 50], [60, 75, 25, 25, 10, 55, 55], [50, 60, 30, 50, 55, 50], [50, 65, 25, 50, 35, 45, 25], [35, 75, 70, 60, 30, 35], [75, 45, 50, 60, 55, 10], [60, 55, 45, 60, 70], [60, 70, 55, 35, 70], [20, 15, 55, 35, 40, 20, 50, 60], [75, 45, 15, 55, 60, 50], [35, 65, 20, 60, 15, 35, 65], [45, 50, 70, 15, 40, 70], [50, 35, 45, 55, 65, 50], [25, 75, 35, 75, 20, 65], [70, 75, 10, 45, 70, 40], [30, 25, 50, 30, 60, 35, 15, 60], [75, 75, 20, 10, 55, 75], [60, 70, 60, 20, 45, 35], [55, 50, 65, 35, 30, 30, 45], [15, 25, 45, 15, 75, 45, 75], [50, 30, 50, 10, 25, 20, 20, 55, 50]]\n"
          ]
        }
      ]
    },
    {
      "cell_type": "code",
      "source": [],
      "metadata": {
        "id": "mFACh8g9iBRR"
      },
      "execution_count": null,
      "outputs": []
    },
    {
      "cell_type": "code",
      "source": [
        "listed=list(ProductList.values())\n",
        "print(listed)"
      ],
      "metadata": {
        "colab": {
          "base_uri": "https://localhost:8080/"
        },
        "id": "QNuJgNqhcJ-g",
        "outputId": "0585263f-fa59-4b68-dd72-8f15c35c2fc6"
      },
      "execution_count": null,
      "outputs": [
        {
          "output_type": "stream",
          "name": "stdout",
          "text": [
            "[10, 15, 20, 25, 30, 35, 50, 40, 55, 60, 65, 75, 70, 45]\n"
          ]
        }
      ]
    }
  ]
}